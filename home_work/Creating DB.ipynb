{
 "cells": [
  {
   "cell_type": "code",
   "execution_count": 1,
   "metadata": {},
   "outputs": [],
   "source": [
    "import sqlalchemy\n",
    "import sqlite3\n",
    "%load_ext sql"
   ]
  },
  {
   "cell_type": "code",
   "execution_count": 2,
   "metadata": {},
   "outputs": [],
   "source": [
    "%%sql\n",
    "sqlite:///dostavista.db"
   ]
  },
  {
   "cell_type": "code",
   "execution_count": 3,
   "metadata": {},
   "outputs": [
    {
     "name": "stdout",
     "output_type": "stream",
     "text": [
      " * sqlite:///dostavista.db\n",
      "Done.\n",
      "Done.\n",
      "Done.\n"
     ]
    },
    {
     "data": {
      "text/plain": [
       "[]"
      ]
     },
     "execution_count": 3,
     "metadata": {},
     "output_type": "execute_result"
    }
   ],
   "source": [
    "%%sql\n",
    "create table orders\n",
    "(\n",
    "    order_id INTEGER PRIMARY KEY AUTOINCREMENT,\n",
    "    courier_id INTEGER,\n",
    "    user_id INTEGER NOT NULL,\n",
    "    contract_id INTEGER,\n",
    "    created DATETIME,\n",
    "    courier_assignment_time DATETIME\n",
    ");\n",
    "\n",
    "create table points\n",
    "(\n",
    "    point_id INTEGER PRIMARY KEY AUTOINCREMENT,\n",
    "    order_id INTEGER NOT NULL,\n",
    "    sequence INTEGER NOT NULL,\n",
    "    delivery_interval_start DATETIME NOT NULL,\n",
    "    delivery_interval_end DATETIME NOT NULL,\n",
    "    address TEXT(255) NULL DEFAULT NULL,\n",
    "    latitude Double(22, 0) NULL DEFAULT NULL,\n",
    "    longitude Double(22, 0) NULL DEFAULT NULL\n",
    ");\n",
    "\n",
    "create table contracts\n",
    "(\n",
    "    contract_id INTEGER PRIMARY KEY AUTOINCREMENT,\n",
    "    courier_id INTEGER NOT NULL,\n",
    "    status INTEGER NOT NULL,\n",
    "    status_last_update_date DATETIME NOT NULL,\n",
    "    contract_start DATETIME NOT NULL,\n",
    "    contract_end DATETIME NOT NULL,\n",
    "    created_date DATETIME NOT NULL\n",
    ");\n"
   ]
  },
  {
   "cell_type": "code",
   "execution_count": 4,
   "metadata": {},
   "outputs": [
    {
     "name": "stdout",
     "output_type": "stream",
     "text": [
      " * sqlite:///dostavista.db\n",
      "4 rows affected.\n",
      "10 rows affected.\n",
      "21 rows affected.\n"
     ]
    },
    {
     "data": {
      "text/plain": [
       "[]"
      ]
     },
     "execution_count": 4,
     "metadata": {},
     "output_type": "execute_result"
    }
   ],
   "source": [
    "%%sql\n",
    "insert into contracts (courier_id, status, contract_start, contract_end, status_last_update_date, created_date) values\n",
    "(1,1,'2019-11-9 11:0', '2019-11-9 19:0','2019-11-09 19:00','2019-11-09 15:00'),\n",
    "(2,1,'2019-11-9 11:0', '2019-11-9 19:0','2019-11-09 19:00','2019-11-09 15:00'),\n",
    "(3,1,'2019-11-9 11:0', '2019-11-9 19:0','2019-11-09 19:00','2019-11-09 15:00'),\n",
    "(4,0,'2019-11-9 11:0', '2019-11-9 19:0','2019-11-11 19:00','2019-11-09 15:00');\n",
    "\n",
    "insert into orders (user_id, courier_id, contract_id, created, courier_assignment_time) values\n",
    "(21, 1, 1, '2019-11-9 7:14','2019-11-9 7:14'),\n",
    "(21, 1, NULL, '2019-11-9 6:14','2019-11-9 6:13'),\n",
    "(19, 3, 3, '2019-11-9 0:48', '2019-11-9 0:48'),\n",
    "(16,NULL, NULL,'2019-11-12 11:38','2019-11-12 11:38'),\n",
    "(16,4,4,'2019-11-11 11:36','2019-11-11 11:36'),\n",
    "(24,4,4,'2019-11-11 11:10','2019-11-11 11:36'),\n",
    "(24,4,4,'2019-11-11 11:10','2019-11-11 11:36'),\n",
    "(23,4,4,'2019-11-11 17:46','2019-11-11 11:36'),\n",
    "(22,4,NULL,'2019-11-21 21:14','2019-11-21 21:14'),\n",
    "(24,15,NULL,'2019-11-21 18:25','2019-11-21 21:14');\n",
    "\n",
    "insert into points (order_id, sequence, delivery_interval_start, delivery_interval_end, address, latitude, longitude) values\n",
    "(1, 0, '2019-11-9 7:14', '2019-11-9 12:0','Москва, Дубининская, 1',NULL,NULL),\n",
    "(1, 1, '2019-11-9 7:14', '2019-11-9 18:0','Москва, Дубининская, 2',NULL,NULL),\n",
    "(2, 0, '2019-11-9 6:00', '2019-11-9 9:00','Москва, Дубининская, 3',NULL,NULL),\n",
    "(2, 1, '2019-11-9 16:14', '2019-11-9 19:0','Москва, Дубининская, 4',NULL,NULL),\n",
    "(3, 0, '2019-11-9 0:48', '2019-11-9 2:0','Москва, Дубининская, 5',NULL,NULL),\n",
    "(3, 1, '2019-11-9 0:48', '2019-11-9 1:0','Москва, Дубининская, 6',NULL,NULL),\n",
    "(3, 2, '2019-11-9 0:48', '2019-11-9 2:0','Москва, Дубининская, 7',NULL,NULL),\n",
    "(4, 0, '2019-11-12 11:38', '2019-11-12 13:0','Москва, Дубининская, 8',NULL,NULL),\n",
    "(4, 1, '2019-11-12 11:38', '2019-11-12 13:0','Москва, Дубининская, 9',NULL,NULL),\n",
    "(5, 0, '2019-11-21 11:36', '2019-11-21 14:0','Москва, Дубининская, 10',NULL,NULL),\n",
    "(5, 1, '2019-11-21 11:36', '2019-11-21 13:0','Москва, Дубининская, 11',NULL,NULL),\n",
    "(6, 0, '2019-11-15 11:10', '2019-11-15 13:0','Москва, Дубининская, 12',NULL,NULL),\n",
    "(6, 1, '2019-11-15 11:10', '2019-11-15 14:0','Москва, Дубининская, 13',NULL,NULL),\n",
    "(7, 0, '2019-11-6 17:46', '2019-11-6 19:0','Москва, Дубининская, 14',NULL,NULL),\n",
    "(7, 1, '2019-11-6 17:46', '2019-11-6 20:0','Москва, Дубининская, 15',NULL,NULL),\n",
    "(8, 0, '2019-11-11 1:14', '2019-11-11 3:0','Москва, Дубининская, 16',NULL,NULL),\n",
    "(8, 1, '2019-11-11 1:14', '2019-11-11 2:0','Москва, Дубининская, 17',NULL,NULL),\n",
    "(8, 2, '2019-11-11 1:14', '2019-11-11 4:0','Москва, Дубининская, 18',NULL,NULL),\n",
    "(9, 0, '2019-11-21 15:25', '2019-11-21 16:0','Москва, Дубининская, 19',NULL,NULL),\n",
    "(9, 1, '2019-11-21 15:25', '2019-11-21 16:0','Москва, Дубининская, 20',NULL,NULL),\n",
    "(9, 2, '2019-11-21 15:25', '2019-11-21 18:0','Москва, Дубининская, 21',NULL,NULL);"
   ]
  }
 ],
 "metadata": {
  "kernelspec": {
   "display_name": "Python 3",
   "language": "python",
   "name": "python3"
  },
  "language_info": {
   "codemirror_mode": {
    "name": "ipython",
    "version": 3
   },
   "file_extension": ".py",
   "mimetype": "text/x-python",
   "name": "python",
   "nbconvert_exporter": "python",
   "pygments_lexer": "ipython3",
   "version": "3.8.5"
  }
 },
 "nbformat": 4,
 "nbformat_minor": 4
}
